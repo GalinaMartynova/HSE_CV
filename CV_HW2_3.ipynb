{
 "cells": [
  {
   "cell_type": "code",
   "execution_count": 1,
   "id": "7910a2d7",
   "metadata": {},
   "outputs": [],
   "source": [
    "import numpy as np\n",
    "from numpy import array\n",
    "import math\n",
    "import random"
   ]
  },
  {
   "cell_type": "markdown",
   "id": "7f1c414a",
   "metadata": {},
   "source": [
    "6. (5 баллов) Система координат камеры получается из мировой поворотом на 45 градусов вокруг оси z и трансляцией на 10 вдоль оси z. Внутренние параметры камеры: fx=fy=400, cx=960, cy=540. Написать программу, которая выводит на экран матрицу проекции камеры и целочисленные координаты пикселя на изображении, соответствующего трехмерной точке с координатами (10, -10, 100) в мировой системе координат."
   ]
  },
  {
   "cell_type": "code",
   "execution_count": 2,
   "id": "b374e50a",
   "metadata": {},
   "outputs": [],
   "source": [
    "fx = fy = 400     # дано\n",
    "cx = 960\n",
    "cy = 540\n",
    "xyz = np.array([10, -10, 100, 1])\n",
    "a6 = 45  "
   ]
  },
  {
   "cell_type": "code",
   "execution_count": 3,
   "id": "5edc6276",
   "metadata": {},
   "outputs": [],
   "source": [
    "k6 = np.array([[fx, 0, cx], [0, fy, cy], [0, 0, 1]])\n",
    "R_T = np.array([[math.cos(math.radians(a6)), -math.sin(math.radians(a6)), 0, 0], \n",
    "                [math.sin(math.radians(a6)), math.cos(math.radians(a6)), 0, 0], \n",
    "                [0, 0, 1, 10]]) #вращение вокруг оси z + трансляция по z"
   ]
  },
  {
   "cell_type": "code",
   "execution_count": 4,
   "id": "8e2ad4e4",
   "metadata": {},
   "outputs": [
    {
     "name": "stdout",
     "output_type": "stream",
     "text": [
      "Матрица проекции камеры:\n",
      " [[ 2.82842712e+02 -2.82842712e+02  9.60000000e+02  9.60000000e+03]\n",
      " [ 2.82842712e+02  2.82842712e+02  5.40000000e+02  5.40000000e+03]\n",
      " [ 0.00000000e+00  0.00000000e+00  1.00000000e+00  1.00000000e+01]]\n"
     ]
    }
   ],
   "source": [
    "uvw = k6 @ R_T\n",
    "print(f'Матрица проекции камеры:\\n', uvw)"
   ]
  },
  {
   "cell_type": "code",
   "execution_count": 5,
   "id": "9c360240",
   "metadata": {},
   "outputs": [
    {
     "name": "stdout",
     "output_type": "stream",
     "text": [
      "Координаты пикселя:\n",
      " [1011  540]\n"
     ]
    }
   ],
   "source": [
    "uvw0 = uvw @ xyz\n",
    "uv = uvw0[:2] / uvw0[2]\n",
    "print(f'Координаты пикселя:\\n', np.around(uv).astype(int))"
   ]
  },
  {
   "cell_type": "markdown",
   "id": "c313c93d",
   "metadata": {},
   "source": [
    "7. (5 баллов) Написать генератор пар двумерных точек для теста алгоритма, удовлетворяющих заданному заранее преобразованию гомографии H0. Используя прямое линейное преобразование (DLT) и SVD, написать программу, которая принимает на вход множество пар двумерных точек, и находит соответствующую этим парам матрицу гомографии H. Распечатать матрицы H0 и H."
   ]
  },
  {
   "cell_type": "code",
   "execution_count": 6,
   "id": "bfd7c81b",
   "metadata": {},
   "outputs": [],
   "source": [
    "def points_generator(num_points, H0):       # генератор точек\n",
    "    x = np.random.rand(num_points, 2) \n",
    "    xp = np.hstack((x, np.ones((num_points, 1)))) @ (H0.T)\n",
    "    xp = xp[:, :2] / xp[:, 2:]\n",
    "    return x, xp\n",
    "\n",
    "\n",
    "def DLT(x, x0): # прямое линейное преобразование (DLT)\n",
    "    A = []\n",
    "    # A = [\n",
    "    #         x1  y1   1   0    0    0   -x1*xp1   -y1*xp1   -xp1;\n",
    "    #         0    0   0   x1   y1   1   -x1*yp1   -y1*yp1   -yp1;\n",
    "    #         x2  y2   1   0    0    0   -x2*xp2   -y2*xp2   -xp2;\n",
    "    #         0    0   0   x2   y2   1   -x2*yp2   -y2*yp2   -yp2;\n",
    "    #     ...       \n",
    "    for i in range(len(x)):\n",
    "        xi, yi = x[i, 0], x[i, 1]\n",
    "        xp_i, yp_i = xp[i, 0], xp[i, 1]\n",
    "        A.append([xi, yi, 1, 0, 0, 0, -xi * xp_i, -yi * xp_i, -xp_i])\n",
    "        A.append([0, 0, 0, xi, yi, 1, -xi * yp_i, -yi * yp_i, -yp_i])\n",
    "    A = np.array(A)\n",
    "    u, s, vh = np.linalg.svd(A)     # SVD\n",
    "    H = vh[-1, :].reshape(3, 3)\n",
    "    return H"
   ]
  },
  {
   "cell_type": "code",
   "execution_count": 7,
   "id": "f9e4e7fc",
   "metadata": {},
   "outputs": [
    {
     "name": "stdout",
     "output_type": "stream",
     "text": [
      "Заданная матрица гомографии H0: \n",
      " [[  1.    0.  100. ]\n",
      " [  0.    0.5  50. ]\n",
      " [  0.    0.    1. ]]\n",
      "Матрица после преобразования H: \n",
      " [[-8.94346703e-03 -2.09415515e-14 -8.94346703e-01]\n",
      " [ 2.27752052e-15 -4.47173352e-03 -4.47173352e-01]\n",
      " [-1.06237352e-16 -1.08470601e-16 -8.94346703e-03]]\n"
     ]
    }
   ],
   "source": [
    "H0 = np.array([[1, 0, 100], [0, 0.5, 50], [0, 0, 1]])\n",
    "x, xp = points_generator(10, H0)\n",
    "H = DLT(x, xp)\n",
    "\n",
    "print(f'Заданная матрица гомографии H0: \\n', H0)\n",
    "print(f'Матрица после преобразования H: \\n', H)"
   ]
  },
  {
   "cell_type": "markdown",
   "id": "68692682",
   "metadata": {},
   "source": [
    "8. (5 баллов) Модифицировать генератор из Задачи 7 так, чтобы он выдавал n=1000 соответствий, из которых 30% соответствуют заданному заранее преобразованию гомографии, а остальные взяты случайно (преобразованию гомографии не удовлетворяют). Реализовать нахождение преобразования гомографии H1, используя DLT и RANSAC. Распечатать H0 и H1."
   ]
  },
  {
   "cell_type": "code",
   "execution_count": 8,
   "id": "00f9aac9",
   "metadata": {},
   "outputs": [],
   "source": [
    "H0 = np.array([[1, 0, 100], [0, 0.5, 50], [0, 0, 1]])\n",
    "\n",
    "def get_proportion(n, p=0.3):   \n",
    "    points1 = np.random.rand(n, 2)\n",
    "    points2 = (points1 @ H0[:2, :2]) + H0[:2, 2]           # 30% соответствуют заданному заранее преобразованию гомографии\n",
    "    points2[int(n * p):] += np.random.rand(int(n * (1 - p)), 2) # ост. преобразованию гомографии не удовлетворяют\n",
    "    return points1, points2\n",
    "\n",
    "def DLT(points1, points2):\n",
    "    A = np.zeros((2 * points1.shape[0], 9))\n",
    "    for i, (x1, y1) in enumerate(points1):\n",
    "        A[2 * i] = [-x1, -y1, -1, 0, 0, 0, x1 * points2[i, 0], y1 * points2[i, 0], points2[i, 0]]\n",
    "        A[2 * i + 1] = [0, 0, 0, -x1, -y1, -1, x1 * points2[i, 1], y1 * points2[i, 1], points2[i, 1]]\n",
    "    U, S, V = np.linalg.svd(A)\n",
    "    H = V[-1].reshape(3, 3)\n",
    "    return H / H[-1, -1]\n",
    "\n",
    "def RANSAC(points1, points2, iterations=100, threshold=0.1):\n",
    "    max_inliers = 0\n",
    "    best_H = None\n",
    "    for i in range(iterations):\n",
    "        indices = random.sample(range(points1.shape[0]), 4)\n",
    "        sample_points1 = points1[indices]\n",
    "        sample_points2 = points2[indices]\n",
    "        H = DLT(sample_points1, sample_points2)\n",
    "        inliers = np.sum(np.linalg.norm(np.dot(points1, H[:2, :2].T) + H[:2, 2].T - points2, axis=1) < threshold)\n",
    "        if inliers > max_inliers:\n",
    "            max_inliers = inliers\n",
    "            best_H = H\n",
    "    return best_H"
   ]
  },
  {
   "cell_type": "code",
   "execution_count": 9,
   "id": "05cdc44f",
   "metadata": {},
   "outputs": [
    {
     "name": "stdout",
     "output_type": "stream",
     "text": [
      "Матрица H0: \n",
      " [[  1.    0.  100. ]\n",
      " [  0.    0.5  50. ]\n",
      " [  0.    0.    1. ]]\n",
      "H1 (RANSAC): \n",
      " [[ 1.00000000e+00 -5.53453911e-11  1.00000000e+02]\n",
      " [ 3.36450735e-11  5.00000000e-01  5.00000000e+01]\n",
      " [ 6.63058838e-13 -5.39779283e-13  1.00000000e+00]]\n"
     ]
    }
   ],
   "source": [
    "points1, points2 = get_proportion(1000)  # n = 1000\n",
    "H1 = RANSAC(points1, points2)\n",
    "\n",
    "print(f'Матрица H0: \\n', H0)\n",
    "print(f'H1 (RANSAC): \\n', H1)"
   ]
  },
  {
   "cell_type": "markdown",
   "id": "bc4d0175",
   "metadata": {},
   "source": [
    "9. (5 баллов) Два изображения одной и той же сцены сделаны одной и той же камерой с такой же матрицей внутренних параметров, как в Задаче 6. Второй снимок сделан после поворота камеры на 30 градусов вокруг оси x относительно начала координат системы отсчета, связанной с камерой (без сдвига). Найти матрицу гомографии между двумя изображениями."
   ]
  },
  {
   "cell_type": "code",
   "execution_count": 10,
   "id": "8aabed45",
   "metadata": {},
   "outputs": [
    {
     "name": "stdout",
     "output_type": "stream",
     "text": [
      "Матрица гомографии: \n",
      " [[ 1.00000000e+00  1.20000000e+00 -7.76615612e+02]\n",
      " [ 0.00000000e+00  1.54102540e+00 -5.64500000e+02]\n",
      " [ 0.00000000e+00  1.25000000e-03  1.91025404e-01]]\n"
     ]
    }
   ],
   "source": [
    "fx = fy = 400     # дано\n",
    "cx = 960\n",
    "cy = 540\n",
    "a = 30  \n",
    "k = np.array([[fx, 0, cx], [0, fy, cy], [0, 0, 1]])\n",
    "R = np.array([[1, 0, 0],\n",
    "              [0, math.cos(math.radians(a)), -math.sin(math.radians(a))], \n",
    "              [0, math.sin(math.radians(a)), math.cos(math.radians(a))]]) # вращение вокруг оси x\n",
    "H = k @ (R) @ (np.linalg.inv(k))\n",
    "print(f'Матрица гомографии: \\n', H)"
   ]
  },
  {
   "cell_type": "markdown",
   "id": "a167ee46",
   "metadata": {},
   "source": [
    "## Домашняя работа 3"
   ]
  },
  {
   "cell_type": "markdown",
   "id": "8fe18cb4",
   "metadata": {},
   "source": [
    "13. (5 баллов) Первая камера повернута относительно второй на 45 градусов по оси z и сдвинута на 10 вдоль направления оси x второй камеры. У обеих камер матрицы внутренних параметров единичные. Найти и распечатать фундаментальную матрицу."
   ]
  },
  {
   "cell_type": "code",
   "execution_count": 11,
   "id": "86f682d6",
   "metadata": {},
   "outputs": [
    {
     "name": "stdout",
     "output_type": "stream",
     "text": [
      "Фундаментальная матрица: \n",
      " [[  0.           0.           0.        ]\n",
      " [  0.           0.         -10.        ]\n",
      " [  7.07106781   7.07106781   0.        ]]\n"
     ]
    }
   ],
   "source": [
    "from scipy.spatial.transform import Rotation as R\n",
    "anglez = np.pi/4\n",
    "r1 = R.from_rotvec([0, 0, anglez]).as_matrix()\n",
    "t1 = [10, 0, 0]\n",
    "F1 = np.cross(t1, np.eye(3)).transpose() @ r1\n",
    "print(f'Фундаментальная матрица: \\n', F1)"
   ]
  },
  {
   "cell_type": "markdown",
   "id": "20a752e8",
   "metadata": {},
   "source": [
    "14. (5 баллов) Первая камера повернута относительно мировой системы координат на 45 градусов по оси z, а вторая – на -45 градусов по оси у и сдвинута на 10 в направлении оси x. У обеих камер матрицы внутренних параметров единичные. Найти и распечатать фундаментальную матрицу"
   ]
  },
  {
   "cell_type": "code",
   "execution_count": 12,
   "id": "a86e823e",
   "metadata": {},
   "outputs": [
    {
     "name": "stdout",
     "output_type": "stream",
     "text": [
      "Фундаментальная матрица: \n",
      " [[-5. -5. -0.]\n",
      " [ 0.  0. 10.]\n",
      " [-5. -5.  0.]]\n"
     ]
    }
   ],
   "source": [
    "a = 45\n",
    "A_1 = np.array([[math.cos(math.radians(a)), -math.sin(math.radians(a)), 0], \n",
    "                [math.sin(math.radians(a)), math.cos(math.radians(a)), 0],     # вращение вокруг оси z\n",
    "                [0, 0, 1]])\n",
    "\n",
    "B_1 = np.array([[0], [0], [0]])\n",
    "\n",
    "A_2 = np.array([[np.cos(math.radians(-a)), 0, np.sin(math.radians(-a))],\n",
    "                [0, 1, 0],\n",
    "                [-np.sin(math.radians(-a)), 0, np.cos(math.radians(-a))]])     # вращение вокруг оси y\n",
    "\n",
    "B_2 = np.array([[10], [0], [0]]) # сдвиг по x\n",
    "\n",
    "A = np.matmul(np.linalg.inv(A_2), A_1)\n",
    "B = -1 * np.matmul(np.linalg.inv(A_2), B_2)\n",
    "\n",
    "Fund_mx = np.cross(B, A, axisa=0, axisb=0, axisc=0)\n",
    "print(f'Фундаментальная матрица: \\n', Fund_mx)"
   ]
  },
  {
   "cell_type": "markdown",
   "id": "77fef008",
   "metadata": {},
   "source": [
    "15. В задаче 14 найти и распечатать оба эпиполя"
   ]
  },
  {
   "cell_type": "code",
   "execution_count": 13,
   "id": "588e3ca3",
   "metadata": {},
   "outputs": [
    {
     "name": "stdout",
     "output_type": "stream",
     "text": [
      "Эпиполи камер:  [ 7.07106781 -7.07106781  0.        ] ,  [10.  0.  0.]\n"
     ]
    }
   ],
   "source": [
    "U_1 = np.array([10, 0, 0, 1]).T\n",
    "U_2 = np.array([0, 0, 0, 1]).T\n",
    "K = np.eye(3)\n",
    "\n",
    "Q_1 = np.concatenate((np.linalg.inv(A_1), B_1), axis=1)\n",
    "P_1 = K @ Q_1\n",
    "Q_2 = np.concatenate((np.linalg.inv(A_2), B_2), axis=1)\n",
    "P_2 = K @ Q_2\n",
    "\n",
    "epipol1 = P_1 @ U_1\n",
    "epipol2 = P_2 @ U_2\n",
    "\n",
    "print(f'Эпиполи камер: ', epipol1, ', ', epipol2)"
   ]
  },
  {
   "cell_type": "markdown",
   "id": "edd32a54",
   "metadata": {},
   "source": [
    "16. В задаче 14 найти и распечатать эпиполярную линию, проходящую через точку (0,0) на первом изображении, и соответствующую ей линию на втором изображении."
   ]
  },
  {
   "cell_type": "code",
   "execution_count": 14,
   "id": "269b2087",
   "metadata": {},
   "outputs": [
    {
     "name": "stdout",
     "output_type": "stream",
     "text": [
      "Эпиполярная линия:  [-7.07106781 -7.07106781  0.        ]\n"
     ]
    }
   ],
   "source": [
    "point = np.array([0, 0, 1])\n",
    "l2 = Fund_mx @ point\n",
    "P_inv = np.linalg.pinv(P_1)\n",
    "point2 = np.matmul(P_2, np.matmul(P_inv, point))\n",
    "l = np.transpose(Fund_mx) @ point2\n",
    "\n",
    "print(f'Эпиполярная линия: ', l)"
   ]
  },
  {
   "cell_type": "code",
   "execution_count": null,
   "id": "4af1d1c3",
   "metadata": {},
   "outputs": [],
   "source": []
  }
 ],
 "metadata": {
  "kernelspec": {
   "display_name": "Python 3 (ipykernel)",
   "language": "python",
   "name": "python3"
  },
  "language_info": {
   "codemirror_mode": {
    "name": "ipython",
    "version": 3
   },
   "file_extension": ".py",
   "mimetype": "text/x-python",
   "name": "python",
   "nbconvert_exporter": "python",
   "pygments_lexer": "ipython3",
   "version": "3.9.12"
  }
 },
 "nbformat": 4,
 "nbformat_minor": 5
}
